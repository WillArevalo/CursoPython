{
 "cells": [
  {
   "cell_type": "code",
   "execution_count": 1,
   "metadata": {
    "collapsed": false
   },
   "outputs": [
    {
     "name": "stdout",
     "output_type": "stream",
     "text": [
      "c vale 1\n",
      "c vale 2\n",
      "c vale 3\n",
      "c vale 4\n",
      "c vale 5\n",
      "c vale 6\n"
     ]
    }
   ],
   "source": [
    "c = 0\n",
    "while c <= 5:\n",
    "    c += 1\n",
    "    print(\"c vale\", c)"
   ]
  },
  {
   "cell_type": "code",
   "execution_count": 2,
   "metadata": {
    "collapsed": false
   },
   "outputs": [
    {
     "name": "stdout",
     "output_type": "stream",
     "text": [
      "c vale 1\n",
      "c vale 2\n",
      "c vale 3\n",
      "c vale 4\n",
      "c vale 5\n",
      "c vale 6\n",
      "Se ha completado toda la iteracion y c vale 6\n"
     ]
    }
   ],
   "source": [
    "c = 0\n",
    "while c <= 5:\n",
    "    c += 1\n",
    "    print(\"c vale\", c)\n",
    "else:\n",
    "    print(\"Se ha completado toda la iteracion y c vale\", c)"
   ]
  },
  {
   "cell_type": "code",
   "execution_count": 3,
   "metadata": {
    "collapsed": false
   },
   "outputs": [
    {
     "name": "stdout",
     "output_type": "stream",
     "text": [
      "c vale 1\n",
      "Rompemos el bucle c vale 2\n"
     ]
    }
   ],
   "source": [
    "c = 0\n",
    "while c <= 5:\n",
    "    c += 1\n",
    "    if (c == 2):\n",
    "        print(\"Rompemos el bucle c vale\", c)\n",
    "        break\n",
    "    print(\"c vale\", c)\n",
    "else:\n",
    "    print(\"Se ha completado toda la iteracion y c vale\", c)"
   ]
  },
  {
   "cell_type": "code",
   "execution_count": 4,
   "metadata": {
    "collapsed": false
   },
   "outputs": [
    {
     "name": "stdout",
     "output_type": "stream",
     "text": [
      "c vale 1\n",
      "c vale 2\n",
      "c vale 3\n",
      "Continuamos con la sgte iteracion 4\n",
      "c vale 5\n",
      "c vale 6\n",
      "Se ha completado toda la iteracion y c vale 6\n"
     ]
    }
   ],
   "source": [
    "c = 0\n",
    "while c <= 5:\n",
    "    c += 1\n",
    "    if c == 4:\n",
    "        print(\"Continuamos con la sgte iteracion\", c)\n",
    "        continue\n",
    "    print(\"c vale\", c)\n",
    "else:\n",
    "    print(\"Se ha completado toda la iteracion y c vale\", c)"
   ]
  },
  {
   "cell_type": "code",
   "execution_count": 5,
   "metadata": {
    "collapsed": false
   },
   "outputs": [
    {
     "name": "stdout",
     "output_type": "stream",
     "text": [
      "Bienvenido al  menu interactivo\n",
      "Que quieres hacer? Escribe una opcion\n",
      "    1) Saludar\n",
      "    2) Sumar dos numeros\n",
      "    3) Salir\n",
      "    \n",
      "1\n",
      "Hola, espero que la estes pasando bien\n",
      "Que quieres hacer? Escribe una opcion\n",
      "    1) Saludar\n",
      "    2) Sumar dos numeros\n",
      "    3) Salir\n",
      "    \n",
      "2\n",
      "Digita el primer numero: 1\n",
      "Digita el segundo numero: 3\n",
      "El resultado de la suma es:  4.0\n",
      "Que quieres hacer? Escribe una opcion\n",
      "    1) Saludar\n",
      "    2) Sumar dos numeros\n",
      "    3) Salir\n",
      "    \n",
      "5\n",
      "Comando desconocido\n",
      "Que quieres hacer? Escribe una opcion\n",
      "    1) Saludar\n",
      "    2) Sumar dos numeros\n",
      "    3) Salir\n",
      "    \n",
      "3\n",
      "Hasta la vista Baby\n"
     ]
    }
   ],
   "source": [
    "print(\"Bienvenido al  menu interactivo\")\n",
    "while(True):\n",
    "    print(\"\"\"Que quieres hacer? Escribe una opcion\n",
    "    1) Saludar\n",
    "    2) Sumar dos numeros\n",
    "    3) Salir\n",
    "    \"\"\")\n",
    "    opcion = input()\n",
    "    if opcion == '1':\n",
    "        print(\"Hola, espero que la estes pasando bien\")\n",
    "    elif opcion == '2':\n",
    "        n1 = float(input(\"Digita el primer numero: \"))\n",
    "        n2 = float(input(\"Digita el segundo numero: \"))\n",
    "        print(\"El resultado de la suma es: \", n1+n2)\n",
    "    elif opcion =='3':\n",
    "        print(\"Hasta la vista Baby\")\n",
    "        break\n",
    "    else:\n",
    "        print(\"Comando desconocido\")"
   ]
  },
  {
   "cell_type": "code",
   "execution_count": null,
   "metadata": {
    "collapsed": true
   },
   "outputs": [],
   "source": []
  }
 ],
 "metadata": {
  "kernelspec": {
   "display_name": "Python 3",
   "language": "python",
   "name": "python3"
  },
  "language_info": {
   "codemirror_mode": {
    "name": "ipython",
    "version": 3
   },
   "file_extension": ".py",
   "mimetype": "text/x-python",
   "name": "python",
   "nbconvert_exporter": "python",
   "pygments_lexer": "ipython3",
   "version": "3.6.0"
  }
 },
 "nbformat": 4,
 "nbformat_minor": 0
}
