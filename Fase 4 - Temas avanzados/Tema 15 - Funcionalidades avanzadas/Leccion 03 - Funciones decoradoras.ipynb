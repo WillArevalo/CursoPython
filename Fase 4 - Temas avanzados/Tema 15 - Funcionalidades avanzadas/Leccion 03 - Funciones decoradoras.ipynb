{
 "cells": [
  {
   "cell_type": "markdown",
   "metadata": {},
   "source": [
    "# Ámbitos y funciones decoradoras"
   ]
  },
  {
   "cell_type": "markdown",
   "metadata": {},
   "source": [
    "#### NOTA: Antes de realizar esta lección debes reiniciar Jupyter Notebook para vaciar la memoria."
   ]
  },
  {
   "cell_type": "code",
   "execution_count": 4,
   "metadata": {
    "collapsed": true
   },
   "outputs": [],
   "source": [
    "def hola(): #Ambito global\n",
    "    \n",
    "    def bienvenido():  #Ambito local\n",
    "        return \"hola!\"\n",
    "    \n",
    "    return bienvenido"
   ]
  },
  {
   "cell_type": "code",
   "execution_count": 2,
   "metadata": {
    "collapsed": false
   },
   "outputs": [
    {
     "ename": "NameError",
     "evalue": "name 'bienvenido' is not defined",
     "output_type": "error",
     "traceback": [
      "\u001b[0;31m---------------------------------------------------------------------------\u001b[0m",
      "\u001b[0;31mNameError\u001b[0m                                 Traceback (most recent call last)",
      "\u001b[0;32m<ipython-input-2-f083d151b813>\u001b[0m in \u001b[0;36m<module>\u001b[0;34m()\u001b[0m\n\u001b[0;32m----> 1\u001b[0;31m \u001b[0mbienvenido\u001b[0m\u001b[1;33m(\u001b[0m\u001b[1;33m)\u001b[0m\u001b[1;33m\u001b[0m\u001b[0m\n\u001b[0m",
      "\u001b[0;31mNameError\u001b[0m: name 'bienvenido' is not defined"
     ]
    }
   ],
   "source": [
    "bienvenido()"
   ]
  },
  {
   "cell_type": "code",
   "execution_count": 3,
   "metadata": {
    "collapsed": false
   },
   "outputs": [
    {
     "data": {
      "text/plain": [
       "'hola!'"
      ]
     },
     "execution_count": 3,
     "metadata": {},
     "output_type": "execute_result"
    }
   ],
   "source": [
    "hola()"
   ]
  },
  {
   "cell_type": "code",
   "execution_count": 6,
   "metadata": {
    "collapsed": false
   },
   "outputs": [
    {
     "data": {
      "text/plain": [
       "<function __main__.hola.<locals>.bienvenido>"
      ]
     },
     "execution_count": 6,
     "metadata": {},
     "output_type": "execute_result"
    }
   ],
   "source": [
    "hola()"
   ]
  },
  {
   "cell_type": "code",
   "execution_count": 10,
   "metadata": {
    "collapsed": false
   },
   "outputs": [
    {
     "name": "stdout",
     "output_type": "stream",
     "text": [
      "{'bienvenido': <function hola.<locals>.bienvenido at 0x0000001EDFC58950>, 'numero': 50}\n"
     ]
    },
    {
     "data": {
      "text/plain": [
       "<function __main__.hola.<locals>.bienvenido>"
      ]
     },
     "execution_count": 10,
     "metadata": {},
     "output_type": "execute_result"
    }
   ],
   "source": [
    "lista = [1,2,3]\n",
    "\n",
    "def hola(): #Ambito global\n",
    "    \n",
    "    numero = 50\n",
    "    \n",
    "    def bienvenido():  #Ambito local\n",
    "        return \"hola!\"\n",
    "    \n",
    "    print( locals() )\n",
    "    #print( globals() )\n",
    "    \n",
    "    return bienvenido\n",
    "hola()"
   ]
  },
  {
   "cell_type": "code",
   "execution_count": 11,
   "metadata": {
    "collapsed": false
   },
   "outputs": [
    {
     "data": {
      "text/plain": [
       "{'In': ['',\n",
       "  'def hola(): #Ambito global\\n    \\n    def bienvenido():  #Ambito local\\n        return \"hola!\"\\n    \\n    return bienvenido()',\n",
       "  'bienvenido()',\n",
       "  'hola()',\n",
       "  'def hola(): #Ambito global\\n    \\n    def bienvenido():  #Ambito local\\n        return \"hola!\"\\n    \\n    return bienvenido',\n",
       "  'hola.bienvenido()',\n",
       "  'hola()',\n",
       "  'def hola(): #Ambito global\\n    \\n    def bienvenido():  #Ambito local\\n        return \"hola!\"\\n    \\n    print( locals() )\\n    \\n    return bienvenido',\n",
       "  'def hola(): #Ambito global\\n    \\n    def bienvenido():  #Ambito local\\n        return \"hola!\"\\n    \\n    print( locals() )\\n    \\n    return bienvenido\\nhola()',\n",
       "  'def hola(): #Ambito global\\n    \\n    numero = 50\\n    \\n    def bienvenido():  #Ambito local\\n        return \"hola!\"\\n    \\n    print( locals() )\\n    \\n    return bienvenido\\nhola()',\n",
       "  'lista = [1,2,3]\\n\\ndef hola(): #Ambito global\\n    \\n    numero = 50\\n    \\n    def bienvenido():  #Ambito local\\n        return \"hola!\"\\n    \\n    print( locals() )\\n    \\n    return bienvenido\\nhola()',\n",
       "  'globals()'],\n",
       " 'Out': {3: 'hola!',\n",
       "  6: <function __main__.hola.<locals>.bienvenido>,\n",
       "  8: <function __main__.hola.<locals>.bienvenido>,\n",
       "  9: <function __main__.hola.<locals>.bienvenido>,\n",
       "  10: <function __main__.hola.<locals>.bienvenido>},\n",
       " '_': <function __main__.hola.<locals>.bienvenido>,\n",
       " '_10': <function __main__.hola.<locals>.bienvenido>,\n",
       " '_3': 'hola!',\n",
       " '_6': <function __main__.hola.<locals>.bienvenido>,\n",
       " '_8': <function __main__.hola.<locals>.bienvenido>,\n",
       " '_9': <function __main__.hola.<locals>.bienvenido>,\n",
       " '__': <function __main__.hola.<locals>.bienvenido>,\n",
       " '___': <function __main__.hola.<locals>.bienvenido>,\n",
       " '__builtin__': <module 'builtins' (built-in)>,\n",
       " '__builtins__': <module 'builtins' (built-in)>,\n",
       " '__doc__': 'Automatically created module for IPython interactive environment',\n",
       " '__loader__': None,\n",
       " '__name__': '__main__',\n",
       " '__package__': None,\n",
       " '__spec__': None,\n",
       " '_dh': ['C:\\\\Users\\\\Beatsaudio\\\\Desktop\\\\072 Ejercicios optativos - Soluciones paso a paso\\\\CursoPython\\\\Fase 4 - Temas avanzados\\\\Tema 15 - Funcionalidades avanzadas'],\n",
       " '_i': 'lista = [1,2,3]\\n\\ndef hola(): #Ambito global\\n    \\n    numero = 50\\n    \\n    def bienvenido():  #Ambito local\\n        return \"hola!\"\\n    \\n    print( locals() )\\n    \\n    return bienvenido\\nhola()',\n",
       " '_i1': 'def hola(): #Ambito global\\n    \\n    def bienvenido():  #Ambito local\\n        return \"hola!\"\\n    \\n    return bienvenido()',\n",
       " '_i10': 'lista = [1,2,3]\\n\\ndef hola(): #Ambito global\\n    \\n    numero = 50\\n    \\n    def bienvenido():  #Ambito local\\n        return \"hola!\"\\n    \\n    print( locals() )\\n    \\n    return bienvenido\\nhola()',\n",
       " '_i11': 'globals()',\n",
       " '_i2': 'bienvenido()',\n",
       " '_i3': 'hola()',\n",
       " '_i4': 'def hola(): #Ambito global\\n    \\n    def bienvenido():  #Ambito local\\n        return \"hola!\"\\n    \\n    return bienvenido',\n",
       " '_i5': 'hola.bienvenido()',\n",
       " '_i6': 'hola()',\n",
       " '_i7': 'def hola(): #Ambito global\\n    \\n    def bienvenido():  #Ambito local\\n        return \"hola!\"\\n    \\n    print( locals() )\\n    \\n    return bienvenido',\n",
       " '_i8': 'def hola(): #Ambito global\\n    \\n    def bienvenido():  #Ambito local\\n        return \"hola!\"\\n    \\n    print( locals() )\\n    \\n    return bienvenido\\nhola()',\n",
       " '_i9': 'def hola(): #Ambito global\\n    \\n    numero = 50\\n    \\n    def bienvenido():  #Ambito local\\n        return \"hola!\"\\n    \\n    print( locals() )\\n    \\n    return bienvenido\\nhola()',\n",
       " '_ih': ['',\n",
       "  'def hola(): #Ambito global\\n    \\n    def bienvenido():  #Ambito local\\n        return \"hola!\"\\n    \\n    return bienvenido()',\n",
       "  'bienvenido()',\n",
       "  'hola()',\n",
       "  'def hola(): #Ambito global\\n    \\n    def bienvenido():  #Ambito local\\n        return \"hola!\"\\n    \\n    return bienvenido',\n",
       "  'hola.bienvenido()',\n",
       "  'hola()',\n",
       "  'def hola(): #Ambito global\\n    \\n    def bienvenido():  #Ambito local\\n        return \"hola!\"\\n    \\n    print( locals() )\\n    \\n    return bienvenido',\n",
       "  'def hola(): #Ambito global\\n    \\n    def bienvenido():  #Ambito local\\n        return \"hola!\"\\n    \\n    print( locals() )\\n    \\n    return bienvenido\\nhola()',\n",
       "  'def hola(): #Ambito global\\n    \\n    numero = 50\\n    \\n    def bienvenido():  #Ambito local\\n        return \"hola!\"\\n    \\n    print( locals() )\\n    \\n    return bienvenido\\nhola()',\n",
       "  'lista = [1,2,3]\\n\\ndef hola(): #Ambito global\\n    \\n    numero = 50\\n    \\n    def bienvenido():  #Ambito local\\n        return \"hola!\"\\n    \\n    print( locals() )\\n    \\n    return bienvenido\\nhola()',\n",
       "  'globals()'],\n",
       " '_ii': 'def hola(): #Ambito global\\n    \\n    numero = 50\\n    \\n    def bienvenido():  #Ambito local\\n        return \"hola!\"\\n    \\n    print( locals() )\\n    \\n    return bienvenido\\nhola()',\n",
       " '_iii': 'def hola(): #Ambito global\\n    \\n    def bienvenido():  #Ambito local\\n        return \"hola!\"\\n    \\n    print( locals() )\\n    \\n    return bienvenido\\nhola()',\n",
       " '_oh': {3: 'hola!',\n",
       "  6: <function __main__.hola.<locals>.bienvenido>,\n",
       "  8: <function __main__.hola.<locals>.bienvenido>,\n",
       "  9: <function __main__.hola.<locals>.bienvenido>,\n",
       "  10: <function __main__.hola.<locals>.bienvenido>},\n",
       " '_sh': <module 'IPython.core.shadowns' from 'C:\\\\Users\\\\Beatsaudio\\\\Anaconda3\\\\lib\\\\site-packages\\\\IPython\\\\core\\\\shadowns.py'>,\n",
       " 'exit': <IPython.core.autocall.ZMQExitAutocall at 0x1edf72c2b0>,\n",
       " 'get_ipython': <bound method InteractiveShell.get_ipython of <ipykernel.zmqshell.ZMQInteractiveShell object at 0x0000001EDEB2DA90>>,\n",
       " 'hola': <function __main__.hola>,\n",
       " 'lista': [1, 2, 3],\n",
       " 'quit': <IPython.core.autocall.ZMQExitAutocall at 0x1edf72c2b0>}"
      ]
     },
     "execution_count": 11,
     "metadata": {},
     "output_type": "execute_result"
    }
   ],
   "source": [
    "globals()"
   ]
  },
  {
   "cell_type": "code",
   "execution_count": 12,
   "metadata": {
    "collapsed": false
   },
   "outputs": [
    {
     "data": {
      "text/plain": [
       "dict_keys(['__name__', '__doc__', '__package__', '__loader__', '__spec__', '__builtin__', '__builtins__', '_ih', '_oh', '_dh', '_sh', 'In', 'Out', 'get_ipython', 'exit', 'quit', '_', '__', '___', '_i', '_ii', '_iii', '_i1', 'hola', '_i2', '_i3', '_3', '_i4', '_i5', '_i6', '_6', '_i7', '_i8', '_8', '_i9', '_9', '_i10', 'lista', '_10', '_i11', '_11', '_i12'])"
      ]
     },
     "execution_count": 12,
     "metadata": {},
     "output_type": "execute_result"
    }
   ],
   "source": [
    "globals().keys()"
   ]
  },
  {
   "cell_type": "code",
   "execution_count": 13,
   "metadata": {
    "collapsed": false
   },
   "outputs": [
    {
     "data": {
      "text/plain": [
       "[1, 2, 3]"
      ]
     },
     "execution_count": 13,
     "metadata": {},
     "output_type": "execute_result"
    }
   ],
   "source": [
    "globals()['lista']"
   ]
  },
  {
   "cell_type": "code",
   "execution_count": 14,
   "metadata": {
    "collapsed": false
   },
   "outputs": [
    {
     "data": {
      "text/plain": [
       "<function __main__.hola.<locals>.bienvenido>"
      ]
     },
     "execution_count": 14,
     "metadata": {},
     "output_type": "execute_result"
    }
   ],
   "source": [
    "def hola(): #Ambito global\n",
    "    \n",
    "    def bienvenido():  #Ambito local\n",
    "        return \"hola!\"\n",
    "    \n",
    "    return bienvenido\n",
    "hola()"
   ]
  },
  {
   "cell_type": "code",
   "execution_count": 15,
   "metadata": {
    "collapsed": false
   },
   "outputs": [
    {
     "data": {
      "text/plain": [
       "'hola!'"
      ]
     },
     "execution_count": 15,
     "metadata": {},
     "output_type": "execute_result"
    }
   ],
   "source": [
    "def hola(): #Ambito global\n",
    "    \n",
    "    def bienvenido():  #Ambito local\n",
    "        return \"hola!\"\n",
    "    \n",
    "    return bienvenido\n",
    "hola()()"
   ]
  },
  {
   "cell_type": "code",
   "execution_count": 16,
   "metadata": {
    "collapsed": false
   },
   "outputs": [
    {
     "data": {
      "text/plain": [
       "'hola!'"
      ]
     },
     "execution_count": 16,
     "metadata": {},
     "output_type": "execute_result"
    }
   ],
   "source": [
    "bienvenido = hola()\n",
    "bienvenido()\n"
   ]
  },
  {
   "cell_type": "code",
   "execution_count": 17,
   "metadata": {
    "collapsed": true
   },
   "outputs": [],
   "source": [
    "del(hola)"
   ]
  },
  {
   "cell_type": "code",
   "execution_count": 18,
   "metadata": {
    "collapsed": false
   },
   "outputs": [
    {
     "data": {
      "text/plain": [
       "'hola!'"
      ]
     },
     "execution_count": 18,
     "metadata": {},
     "output_type": "execute_result"
    }
   ],
   "source": [
    "bienvenido()"
   ]
  },
  {
   "cell_type": "code",
   "execution_count": 19,
   "metadata": {
    "collapsed": false
   },
   "outputs": [
    {
     "name": "stdout",
     "output_type": "stream",
     "text": [
      "Hola!\n"
     ]
    }
   ],
   "source": [
    "def hola():\n",
    "    return \"Hola!\"\n",
    "\n",
    "def test(funcion):\n",
    "    print( funcion() )\n",
    "    \n",
    "test(hola)"
   ]
  },
  {
   "cell_type": "code",
   "execution_count": 20,
   "metadata": {
    "collapsed": true
   },
   "outputs": [],
   "source": [
    "def hola():\n",
    "    print(\"Hola!\")\n",
    "\n",
    "def adios():\n",
    "    print(\"Adios!\")"
   ]
  },
  {
   "cell_type": "code",
   "execution_count": 21,
   "metadata": {
    "collapsed": true
   },
   "outputs": [],
   "source": [
    "def monitorizar(funcion):\n",
    "    \n",
    "    def decorar():\n",
    "        print(\"\\t *Se esta apunto de ejecutar la funcion:\", funcion.__name__)\n",
    "        \n",
    "        funcion()\n",
    "        \n",
    "        print(\"\\t *Se ha finalizado la funcion:\", funcion.__name__)\n",
    "    \n",
    "    return decorar"
   ]
  },
  {
   "cell_type": "code",
   "execution_count": 22,
   "metadata": {
    "collapsed": false
   },
   "outputs": [
    {
     "name": "stdout",
     "output_type": "stream",
     "text": [
      "\t Se esta apunto de ejecutar la funcion: hola\n",
      "Hola!\n",
      "\t Se ha finalizado la funcion: hola\n"
     ]
    }
   ],
   "source": [
    "monitorizar(hola)()"
   ]
  },
  {
   "cell_type": "code",
   "execution_count": 23,
   "metadata": {
    "collapsed": false
   },
   "outputs": [
    {
     "name": "stdout",
     "output_type": "stream",
     "text": [
      "\t Se esta apunto de ejecutar la funcion: adios\n",
      "Adios!\n",
      "\t Se ha finalizado la funcion: adios\n"
     ]
    }
   ],
   "source": [
    "monitorizar(adios)()"
   ]
  },
  {
   "cell_type": "code",
   "execution_count": 24,
   "metadata": {
    "collapsed": true
   },
   "outputs": [],
   "source": [
    "@monitorizar\n",
    "def hola():  #asi se hacen funciones decoradoras\n",
    "    print(\"Hola!\")\n",
    "\n",
    "@monitorizar\n",
    "def adios():\n",
    "    print(\"Adios!\")\n",
    "\n"
   ]
  },
  {
   "cell_type": "code",
   "execution_count": 25,
   "metadata": {
    "collapsed": false
   },
   "outputs": [
    {
     "name": "stdout",
     "output_type": "stream",
     "text": [
      "\t Se esta apunto de ejecutar la funcion: hola\n",
      "Hola!\n",
      "\t Se ha finalizado la funcion: hola\n"
     ]
    }
   ],
   "source": [
    "hola()"
   ]
  },
  {
   "cell_type": "code",
   "execution_count": 26,
   "metadata": {
    "collapsed": false
   },
   "outputs": [
    {
     "name": "stdout",
     "output_type": "stream",
     "text": [
      "\t Se esta apunto de ejecutar la funcion: adios\n",
      "Adios!\n",
      "\t Se ha finalizado la funcion: adios\n"
     ]
    }
   ],
   "source": [
    "adios()"
   ]
  },
  {
   "cell_type": "code",
   "execution_count": 27,
   "metadata": {
    "collapsed": false
   },
   "outputs": [
    {
     "name": "stdout",
     "output_type": "stream",
     "text": [
      "\t Se esta apunto de ejecutar la funcion: saludar\n",
      "Buenos dias!\n",
      "\t Se ha finalizado la funcion: saludar\n"
     ]
    }
   ],
   "source": [
    "@monitorizar\n",
    "def saludar():\n",
    "    print(\"Buenos dias!\")\n",
    "    \n",
    "saludar()"
   ]
  },
  {
   "cell_type": "code",
   "execution_count": 28,
   "metadata": {
    "collapsed": false
   },
   "outputs": [
    {
     "ename": "TypeError",
     "evalue": "decorar() takes 0 positional arguments but 1 was given",
     "output_type": "error",
     "traceback": [
      "\u001b[0;31m---------------------------------------------------------------------------\u001b[0m",
      "\u001b[0;31mTypeError\u001b[0m                                 Traceback (most recent call last)",
      "\u001b[0;32m<ipython-input-28-d7b28d68758c>\u001b[0m in \u001b[0;36m<module>\u001b[0;34m()\u001b[0m\n\u001b[1;32m      3\u001b[0m     \u001b[0mprint\u001b[0m\u001b[1;33m(\u001b[0m\u001b[0mtexto\u001b[0m\u001b[1;33m)\u001b[0m\u001b[1;33m\u001b[0m\u001b[0m\n\u001b[1;32m      4\u001b[0m \u001b[1;33m\u001b[0m\u001b[0m\n\u001b[0;32m----> 5\u001b[0;31m \u001b[0msaludar\u001b[0m\u001b[1;33m(\u001b[0m\u001b[1;34m\"Hola!!!\"\u001b[0m\u001b[1;33m)\u001b[0m\u001b[1;33m\u001b[0m\u001b[0m\n\u001b[0m",
      "\u001b[0;31mTypeError\u001b[0m: decorar() takes 0 positional arguments but 1 was given"
     ]
    }
   ],
   "source": [
    "@monitorizar\n",
    "def saludar(texto):\n",
    "    print(texto)\n",
    "    \n",
    "saludar(\"Hola!!!\")"
   ]
  },
  {
   "cell_type": "code",
   "execution_count": 29,
   "metadata": {
    "collapsed": true
   },
   "outputs": [],
   "source": [
    "def monitorizar_args(funcion):\n",
    "    \n",
    "    def decorar(*args, **kwargs):\n",
    "        print(\"\\t *Se esta apunto de ejecutar la funcion:\", funcion.__name__)\n",
    "        \n",
    "        funcion(*args, **kwargs)\n",
    "        \n",
    "        print(\"\\t *Se ha finalizado la funcion:\", funcion.__name__)\n",
    "    \n",
    "    return decorar"
   ]
  },
  {
   "cell_type": "code",
   "execution_count": null,
   "metadata": {
    "collapsed": true
   },
   "outputs": [],
   "source": [
    "@monitorizar\n",
    "def hola(nombre):  #asi se hacen funciones decoradoras\n",
    "    print(\"Hola {}!\".format(nombre))\n",
    "\n",
    "@monitorizar\n",
    "def adios(nombre):\n",
    "    print(\"Adios{}!\".format(nombre))"
   ]
  }
 ],
 "metadata": {
  "anaconda-cloud": {},
  "kernelspec": {
   "display_name": "Python 3",
   "language": "python",
   "name": "python3"
  },
  "language_info": {
   "codemirror_mode": {
    "name": "ipython",
    "version": 3
   },
   "file_extension": ".py",
   "mimetype": "text/x-python",
   "name": "python",
   "nbconvert_exporter": "python",
   "pygments_lexer": "ipython3",
   "version": "3.6.0"
  }
 },
 "nbformat": 4,
 "nbformat_minor": 0
}
