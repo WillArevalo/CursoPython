{
 "cells": [
  {
   "cell_type": "code",
   "execution_count": 17,
   "metadata": {
    "collapsed": true
   },
   "outputs": [],
   "source": [
    "from io import open\n",
    "import pickle\n",
    "\n",
    "class Pelicula:\n",
    "    \n",
    "    # Constructor de clase\n",
    "    def __init__(self, titulo, duracion, lanzamiento):\n",
    "        self.titulo = titulo\n",
    "        self.duracion = duracion\n",
    "        self.lanzamiento = lanzamiento\n",
    "        print('Se ha creado la película:',self.titulo)\n",
    "        \n",
    "    def __str__(self):\n",
    "        return '{} ({})'.format(self.titulo, self.lanzamiento)\n",
    "\n",
    "\n",
    "class Catalogo:\n",
    "    \n",
    "    peliculas = []\n",
    "    \n",
    "    # Constructor de clase\n",
    "    def __init__(self, peliculas=[]):\n",
    "        self.cargar()\n",
    "        \n",
    "    def agregar(self,p):\n",
    "        self.peliculas.append(p)\n",
    "        self.guardar()\n",
    "        \n",
    "    def mostrar(self):\n",
    "        if len(self.peliculas) == 0:\n",
    "            print(\"El catalogo esta vacio\")\n",
    "            \n",
    "        else:\n",
    "            for p in self.peliculas:\n",
    "                print(p)\n",
    "    \n",
    "    def cargar(self):\n",
    "        fichero = open('catalogo.pckl', 'ab+')#Append binario, solo de escritura, con el mas para funciones de lectura\n",
    "        fichero.seek(0)\n",
    "        try:\n",
    "            self.peliculas = pickle.load(fichero)\n",
    "        except:\n",
    "            print(\"El fichero esta vacio\")\n",
    "        finally:\n",
    "            fichero.close()\n",
    "            del(fichero)\n",
    "            print(\"Se han cargado {} peliculas\".format(len(self.peliculas)))\n",
    "        \n",
    "    def guardar(self):\n",
    "        fichero = open('catalogo.pckl', 'wb')#Escritura binaria\n",
    "        pickle.dump(self.peliculas, fichero)\n",
    "        fichero.close()\n",
    "        del(fichero)\n",
    "    \n",
    "    # Destructor de clase\n",
    "    def __del__(self):\n",
    "        self.guardar() #Guardado automatico\n",
    "        print(\"Se ha guardado el fichero\")"
   ]
  },
  {
   "cell_type": "code",
   "execution_count": 11,
   "metadata": {
    "collapsed": false
   },
   "outputs": [
    {
     "name": "stdout",
     "output_type": "stream",
     "text": [
      "Se han cargado 0 peliculas\n"
     ]
    }
   ],
   "source": [
    "c = Catalogo()"
   ]
  },
  {
   "cell_type": "code",
   "execution_count": 12,
   "metadata": {
    "collapsed": false
   },
   "outputs": [
    {
     "name": "stdout",
     "output_type": "stream",
     "text": [
      "El catalogo esta vacio\n"
     ]
    }
   ],
   "source": [
    "c.mostrar()"
   ]
  },
  {
   "cell_type": "code",
   "execution_count": 13,
   "metadata": {
    "collapsed": false
   },
   "outputs": [
    {
     "name": "stdout",
     "output_type": "stream",
     "text": [
      "Se ha creado la película: El padrino\n"
     ]
    }
   ],
   "source": [
    "c.agregar(Pelicula(\"El padrino\", 175, 1972))"
   ]
  },
  {
   "cell_type": "code",
   "execution_count": 14,
   "metadata": {
    "collapsed": false
   },
   "outputs": [
    {
     "name": "stdout",
     "output_type": "stream",
     "text": [
      "Se ha creado la película: El padrino: Parte II\n"
     ]
    }
   ],
   "source": [
    "c.agregar(Pelicula(\"El padrino: Parte II\", 202, 1974))"
   ]
  },
  {
   "cell_type": "code",
   "execution_count": 15,
   "metadata": {
    "collapsed": false
   },
   "outputs": [
    {
     "name": "stdout",
     "output_type": "stream",
     "text": [
      "El padrino (1972)\n",
      "El padrino: Parte II (1974)\n"
     ]
    }
   ],
   "source": [
    "c.mostrar()"
   ]
  },
  {
   "cell_type": "code",
   "execution_count": 16,
   "metadata": {
    "collapsed": true
   },
   "outputs": [],
   "source": [
    "del(c)"
   ]
  },
  {
   "cell_type": "code",
   "execution_count": 18,
   "metadata": {
    "collapsed": false
   },
   "outputs": [
    {
     "name": "stdout",
     "output_type": "stream",
     "text": [
      "Se han cargado 2 peliculas\n"
     ]
    }
   ],
   "source": [
    "c = Catalogo()"
   ]
  },
  {
   "cell_type": "code",
   "execution_count": 19,
   "metadata": {
    "collapsed": false
   },
   "outputs": [
    {
     "name": "stdout",
     "output_type": "stream",
     "text": [
      "El padrino (1972)\n",
      "El padrino: Parte II (1974)\n"
     ]
    }
   ],
   "source": [
    "c.mostrar()"
   ]
  },
  {
   "cell_type": "code",
   "execution_count": 20,
   "metadata": {
    "collapsed": false
   },
   "outputs": [
    {
     "name": "stdout",
     "output_type": "stream",
     "text": [
      "Se ha guardado el fichero\n"
     ]
    }
   ],
   "source": [
    "del(c)"
   ]
  },
  {
   "cell_type": "code",
   "execution_count": 22,
   "metadata": {
    "collapsed": false
   },
   "outputs": [
    {
     "name": "stdout",
     "output_type": "stream",
     "text": [
      "Se han cargado 2 peliculas\n"
     ]
    }
   ],
   "source": [
    "ca = Catalogo()"
   ]
  },
  {
   "cell_type": "code",
   "execution_count": 23,
   "metadata": {
    "collapsed": false
   },
   "outputs": [
    {
     "name": "stdout",
     "output_type": "stream",
     "text": [
      "Se ha creado la película: Prueba\n"
     ]
    }
   ],
   "source": [
    "ca.agregar(Pelicula(\"Prueba\", 100, 2005))"
   ]
  },
  {
   "cell_type": "code",
   "execution_count": 25,
   "metadata": {
    "collapsed": false
   },
   "outputs": [
    {
     "name": "stdout",
     "output_type": "stream",
     "text": [
      "El padrino (1972)\n",
      "El padrino: Parte II (1974)\n",
      "Prueba (2005)\n"
     ]
    }
   ],
   "source": [
    "ca.mostrar()"
   ]
  },
  {
   "cell_type": "code",
   "execution_count": 27,
   "metadata": {
    "collapsed": false
   },
   "outputs": [
    {
     "name": "stdout",
     "output_type": "stream",
     "text": [
      "Se ha guardado el fichero\n"
     ]
    }
   ],
   "source": [
    "del(ca)"
   ]
  },
  {
   "cell_type": "code",
   "execution_count": 29,
   "metadata": {
    "collapsed": false
   },
   "outputs": [
    {
     "name": "stdout",
     "output_type": "stream",
     "text": [
      "Se han cargado 3 peliculas\n"
     ]
    }
   ],
   "source": [
    "c = Catalogo()"
   ]
  },
  {
   "cell_type": "code",
   "execution_count": 30,
   "metadata": {
    "collapsed": false
   },
   "outputs": [
    {
     "name": "stdout",
     "output_type": "stream",
     "text": [
      "El padrino (1972)\n",
      "El padrino: Parte II (1974)\n",
      "Prueba (2005)\n"
     ]
    }
   ],
   "source": [
    "c.mostrar()"
   ]
  },
  {
   "cell_type": "code",
   "execution_count": null,
   "metadata": {
    "collapsed": true
   },
   "outputs": [],
   "source": []
  }
 ],
 "metadata": {
  "kernelspec": {
   "display_name": "Python 3",
   "language": "python",
   "name": "python3"
  },
  "language_info": {
   "codemirror_mode": {
    "name": "ipython",
    "version": 3
   },
   "file_extension": ".py",
   "mimetype": "text/x-python",
   "name": "python",
   "nbconvert_exporter": "python",
   "pygments_lexer": "ipython3",
   "version": "3.6.0"
  }
 },
 "nbformat": 4,
 "nbformat_minor": 0
}
